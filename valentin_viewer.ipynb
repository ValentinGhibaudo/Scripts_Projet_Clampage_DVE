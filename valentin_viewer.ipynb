{
 "cells": [
  {
   "cell_type": "code",
   "execution_count": 1,
   "id": "7f4f9cbd-2fec-42c8-aca3-08d44210cabd",
   "metadata": {
    "tags": []
   },
   "outputs": [],
   "source": [
    "# %matplotlib inline\n",
    "%matplotlib widget"
   ]
  },
  {
   "cell_type": "code",
   "execution_count": 2,
   "id": "474775d9-a37f-4dc2-8dcd-770d158841b4",
   "metadata": {
    "tags": []
   },
   "outputs": [],
   "source": [
    "%load_ext autoreload\n",
    "%autoreload 2"
   ]
  },
  {
   "cell_type": "markdown",
   "id": "a3404cd7-4944-4f96-b6f6-45a358f99941",
   "metadata": {},
   "source": [
    "# IMPORT"
   ]
  },
  {
   "cell_type": "code",
   "execution_count": 3,
   "id": "193fa455-c7d7-4697-8644-4cb020c2ebee",
   "metadata": {
    "tags": []
   },
   "outputs": [],
   "source": [
    "from pathlib import Path\n",
    "\n",
    "import matplotlib.pyplot as plt\n",
    "import matplotlib.dates as mdates\n",
    "import numpy as np\n",
    "import xarray as xr\n",
    "\n",
    "\n",
    "from pycns import CnsStream, CnsReader, get_viewer\n",
    "import physio\n",
    "\n",
    "from physio_rea_analyse import *\n",
    "from custom_view import *\n",
    "\n",
    "from configuration import *\n",
    "from tools import *"
   ]
  },
  {
   "cell_type": "markdown",
   "id": "df170855-9c07-480a-ac54-50cdecab5277",
   "metadata": {},
   "source": [
    "# READER"
   ]
  },
  {
   "cell_type": "code",
   "execution_count": 4,
   "id": "e82b9377-baf0-4b84-8cd8-717cf1901845",
   "metadata": {
    "tags": []
   },
   "outputs": [
    {
     "data": {
      "text/plain": [
       "{'PLETH': CnsStream PLETH  rate:122Hz  shape:(59387608,),\n",
       " 'SpO2': CnsStream SpO2  rate:1Hz  shape:(456153,),\n",
       " 'EEG_Impedance': CnsStream EEG_Impedance  rate:1Hz  shape:(479832, 22),\n",
       " 'ABP_Mean': CnsStream ABP_Mean  rate:1Hz  shape:(460234,),\n",
       " 'ICP': CnsStream ICP  rate:123Hz  shape:(59576040,),\n",
       " 'CPP': CnsStream CPP  rate:1Hz  shape:(459867,),\n",
       " 'ECG_II': CnsStream ECG_II  rate:492Hz  shape:(238307616,),\n",
       " 'ICP_Mean': CnsStream ICP_Mean  rate:1Hz  shape:(461586,),\n",
       " 'EtCO2': CnsStream EtCO2  rate:1Hz  shape:(396079,),\n",
       " 'EEG': CnsStream EEG  rate:256Hz  shape:(122836639, 19),\n",
       " 'CO2': CnsStream CO2  rate:122Hz  shape:(59642192,),\n",
       " 'ABP_Dias': CnsStream ABP_Dias  rate:1Hz  shape:(453950,),\n",
       " 'ABP': CnsStream ABP  rate:123Hz  shape:(59507428,),\n",
       " 'EEG_NeonatalParams': CnsStream EEG_NeonatalParams  rate:2Hz  shape:(959723, 16),\n",
       " 'HR': CnsStream HR  rate:1Hz  shape:(457716,),\n",
       " 'ABP_Syst': CnsStream ABP_Syst  rate:1Hz  shape:(453950,)}"
      ]
     },
     "execution_count": 4,
     "metadata": {},
     "output_type": "execute_result"
    }
   ],
   "source": [
    "# patient_id = 'P50'\n",
    "# patient_id = 'MF12'\n",
    "# patient_id = 'BM3' # periodic oscillations RSA 2022-09-11T07:50 + trigging, EEG pas ok tout le long car parfois devient 6Hz + 50Hz only , 6 Hz at 2022-09-10T03:16:03.013765\n",
    "patient_id = 'GA9' # periodic oscillations RSA 2021-08-27T03:00:00, EEG OK tout le long // 2021-08-29T14:26:34 = muscle artifact EEG\n",
    "# patient_id = 'HA1' # ses CSD sont cooccurantes avec des evenements de PA et de PIC et la RSA aussi. Pointes EEG chelou\n",
    "# patient_id = 'FC13' # EEG mauvais parfois et devient 6 Hz du coup\n",
    "# patient_id = 'MJ18' # No CO2\n",
    "# patient_id = 'WJ14' # periodic oscillations RSA trigging\n",
    "# patient_id = 'P1' \n",
    "# patient_id = 'P3' \n",
    "# patient_id = 'P11' \n",
    "# patient_id = 'P14' # gros contenu fréquentiel respi dans coeur abp et icp\n",
    "# patient_id = 'P27' \n",
    "# patient_id = 'JL5'\n",
    "# patient_id = 'PL20'\n",
    "# patient_id = 'SP2'\n",
    "raw_folder = data_path / patient_id\n",
    "cns_reader = CnsReader(raw_folder, with_events=True, event_time_zone='Europe/Paris')\n",
    "cns_reader.streams"
   ]
  },
  {
   "cell_type": "code",
   "execution_count": 5,
   "id": "05a6d4df-097d-4c4f-a8ac-04797e68de9f",
   "metadata": {
    "tags": []
   },
   "outputs": [
    {
     "data": {
      "text/plain": [
       "N_SDs            2\n",
       "motif           TC\n",
       "GCS_sortie    15.0\n",
       "mRS_sortie     5.0\n",
       "mRS_1mois      4.0\n",
       "mRS_3mois      3.0\n",
       "mRS_6mois      3.0\n",
       "Name: GA9, dtype: object"
      ]
     },
     "execution_count": 5,
     "metadata": {},
     "output_type": "execute_result"
    }
   ],
   "source": [
    "meta = pd.read_excel(base_folder / 'overview_data_pycns.xlsx').set_index('Patient').loc[patient_id,:][18:]\n",
    "meta"
   ]
  },
  {
   "cell_type": "code",
   "execution_count": 6,
   "id": "272ee771-2039-4f4a-b477-97d5656b0af8",
   "metadata": {
    "tags": []
   },
   "outputs": [
    {
     "data": {
      "text/html": [
       "<div>\n",
       "<style scoped>\n",
       "    .dataframe tbody tr th:only-of-type {\n",
       "        vertical-align: middle;\n",
       "    }\n",
       "\n",
       "    .dataframe tbody tr th {\n",
       "        vertical-align: top;\n",
       "    }\n",
       "\n",
       "    .dataframe thead th {\n",
       "        text-align: right;\n",
       "    }\n",
       "</style>\n",
       "<table border=\"1\" class=\"dataframe\">\n",
       "  <thead>\n",
       "    <tr style=\"text-align: right;\">\n",
       "      <th></th>\n",
       "      <th>name</th>\n",
       "      <th>start_time</th>\n",
       "      <th>duration</th>\n",
       "      <th>description</th>\n",
       "    </tr>\n",
       "  </thead>\n",
       "  <tbody>\n",
       "    <tr>\n",
       "      <th>0</th>\n",
       "      <td>1:debut eeg</td>\n",
       "      <td>2021-08-25 22:51:23.570</td>\n",
       "      <td>0.000</td>\n",
       "      <td></td>\n",
       "    </tr>\n",
       "    <tr>\n",
       "      <th>1</th>\n",
       "      <td>mu + rythme de volet</td>\n",
       "      <td>2021-08-25 22:55:58.528</td>\n",
       "      <td>0.000</td>\n",
       "      <td></td>\n",
       "    </tr>\n",
       "    <tr>\n",
       "      <th>2</th>\n",
       "      <td>mu?</td>\n",
       "      <td>2021-08-25 23:03:18.746</td>\n",
       "      <td>0.000</td>\n",
       "      <td></td>\n",
       "    </tr>\n",
       "    <tr>\n",
       "      <th>3</th>\n",
       "      <td>pointe lente C4</td>\n",
       "      <td>2021-08-25 23:26:40.298</td>\n",
       "      <td>0.000</td>\n",
       "      <td></td>\n",
       "    </tr>\n",
       "    <tr>\n",
       "      <th>4</th>\n",
       "      <td>PL C4</td>\n",
       "      <td>2021-08-25 23:28:24.191</td>\n",
       "      <td>0.000</td>\n",
       "      <td></td>\n",
       "    </tr>\n",
       "    <tr>\n",
       "      <th>5</th>\n",
       "      <td>pointe C4</td>\n",
       "      <td>2021-08-25 23:32:44.642</td>\n",
       "      <td>0.000</td>\n",
       "      <td></td>\n",
       "    </tr>\n",
       "    <tr>\n",
       "      <th>6</th>\n",
       "      <td>pointe C4</td>\n",
       "      <td>2021-08-26 00:18:26.692</td>\n",
       "      <td>0.000</td>\n",
       "      <td></td>\n",
       "    </tr>\n",
       "    <tr>\n",
       "      <th>7</th>\n",
       "      <td>debut TDM</td>\n",
       "      <td>2021-08-26 09:25:19.481</td>\n",
       "      <td>0.000</td>\n",
       "      <td>Pd de reconnection des electrodes d'ECoG</td>\n",
       "    </tr>\n",
       "    <tr>\n",
       "      <th>8</th>\n",
       "      <td>retour TDM</td>\n",
       "      <td>2021-08-26 10:25:51.481</td>\n",
       "      <td>0.000</td>\n",
       "      <td></td>\n",
       "    </tr>\n",
       "    <tr>\n",
       "      <th>9</th>\n",
       "      <td>pointe C4 répétées / mu ?</td>\n",
       "      <td>2021-08-26 14:37:36.986</td>\n",
       "      <td>0.000</td>\n",
       "      <td></td>\n",
       "    </tr>\n",
       "    <tr>\n",
       "      <th>10</th>\n",
       "      <td>electrode ECOG rebranchées</td>\n",
       "      <td>2021-08-26 15:30:19.481</td>\n",
       "      <td>0.000</td>\n",
       "      <td></td>\n",
       "    </tr>\n",
       "    <tr>\n",
       "      <th>11</th>\n",
       "      <td>artefact ECoG</td>\n",
       "      <td>2021-08-26 17:09:55.481</td>\n",
       "      <td>512.000</td>\n",
       "      <td></td>\n",
       "    </tr>\n",
       "    <tr>\n",
       "      <th>12</th>\n",
       "      <td>p</td>\n",
       "      <td>2021-08-26 18:46:52.899</td>\n",
       "      <td>0.000</td>\n",
       "      <td></td>\n",
       "    </tr>\n",
       "    <tr>\n",
       "      <th>13</th>\n",
       "      <td>p</td>\n",
       "      <td>2021-08-26 18:54:11.397</td>\n",
       "      <td>0.000</td>\n",
       "      <td></td>\n",
       "    </tr>\n",
       "    <tr>\n",
       "      <th>14</th>\n",
       "      <td>p repete?</td>\n",
       "      <td>2021-08-27 01:55:13.444</td>\n",
       "      <td>0.000</td>\n",
       "      <td></td>\n",
       "    </tr>\n",
       "    <tr>\n",
       "      <th>15</th>\n",
       "      <td>pointe repete?</td>\n",
       "      <td>2021-08-27 06:01:51.764</td>\n",
       "      <td>0.000</td>\n",
       "      <td></td>\n",
       "    </tr>\n",
       "    <tr>\n",
       "      <th>16</th>\n",
       "      <td>?.?</td>\n",
       "      <td>2021-08-27 09:15:47.481</td>\n",
       "      <td>0.000</td>\n",
       "      <td></td>\n",
       "    </tr>\n",
       "    <tr>\n",
       "      <th>17</th>\n",
       "      <td>SD?</td>\n",
       "      <td>2021-08-28 12:25:32.000</td>\n",
       "      <td>0.000</td>\n",
       "      <td></td>\n",
       "    </tr>\n",
       "    <tr>\n",
       "      <th>18</th>\n",
       "      <td>?</td>\n",
       "      <td>2021-08-29 00:12:04.204</td>\n",
       "      <td>0.000</td>\n",
       "      <td></td>\n",
       "    </tr>\n",
       "    <tr>\n",
       "      <th>19</th>\n",
       "      <td>SD?</td>\n",
       "      <td>2021-08-27 09:11:47.822</td>\n",
       "      <td>3842.400</td>\n",
       "      <td></td>\n",
       "    </tr>\n",
       "    <tr>\n",
       "      <th>20</th>\n",
       "      <td>artefact</td>\n",
       "      <td>2021-08-30 07:36:52.344</td>\n",
       "      <td>303.899</td>\n",
       "      <td></td>\n",
       "    </tr>\n",
       "    <tr>\n",
       "      <th>21</th>\n",
       "      <td>artefact</td>\n",
       "      <td>2021-08-30 11:57:49.631</td>\n",
       "      <td>1660.700</td>\n",
       "      <td></td>\n",
       "    </tr>\n",
       "    <tr>\n",
       "      <th>22</th>\n",
       "      <td>artefact</td>\n",
       "      <td>2021-08-31 03:55:42.997</td>\n",
       "      <td>521.000</td>\n",
       "      <td></td>\n",
       "    </tr>\n",
       "    <tr>\n",
       "      <th>23</th>\n",
       "      <td>fin</td>\n",
       "      <td>2021-08-31 11:33:16.917</td>\n",
       "      <td>0.000</td>\n",
       "      <td></td>\n",
       "    </tr>\n",
       "  </tbody>\n",
       "</table>\n",
       "</div>"
      ],
      "text/plain": [
       "                          name              start_time  duration  \\\n",
       "0                  1:debut eeg 2021-08-25 22:51:23.570     0.000   \n",
       "1         mu + rythme de volet 2021-08-25 22:55:58.528     0.000   \n",
       "2                          mu? 2021-08-25 23:03:18.746     0.000   \n",
       "3              pointe lente C4 2021-08-25 23:26:40.298     0.000   \n",
       "4                        PL C4 2021-08-25 23:28:24.191     0.000   \n",
       "5                    pointe C4 2021-08-25 23:32:44.642     0.000   \n",
       "6                    pointe C4 2021-08-26 00:18:26.692     0.000   \n",
       "7                    debut TDM 2021-08-26 09:25:19.481     0.000   \n",
       "8                   retour TDM 2021-08-26 10:25:51.481     0.000   \n",
       "9    pointe C4 répétées / mu ? 2021-08-26 14:37:36.986     0.000   \n",
       "10  electrode ECOG rebranchées 2021-08-26 15:30:19.481     0.000   \n",
       "11               artefact ECoG 2021-08-26 17:09:55.481   512.000   \n",
       "12                           p 2021-08-26 18:46:52.899     0.000   \n",
       "13                           p 2021-08-26 18:54:11.397     0.000   \n",
       "14                   p repete? 2021-08-27 01:55:13.444     0.000   \n",
       "15              pointe repete? 2021-08-27 06:01:51.764     0.000   \n",
       "16                         ?.? 2021-08-27 09:15:47.481     0.000   \n",
       "17                         SD? 2021-08-28 12:25:32.000     0.000   \n",
       "18                           ? 2021-08-29 00:12:04.204     0.000   \n",
       "19                         SD? 2021-08-27 09:11:47.822  3842.400   \n",
       "20                    artefact 2021-08-30 07:36:52.344   303.899   \n",
       "21                    artefact 2021-08-30 11:57:49.631  1660.700   \n",
       "22                    artefact 2021-08-31 03:55:42.997   521.000   \n",
       "23                         fin 2021-08-31 11:33:16.917     0.000   \n",
       "\n",
       "                                 description  \n",
       "0                                             \n",
       "1                                             \n",
       "2                                             \n",
       "3                                             \n",
       "4                                             \n",
       "5                                             \n",
       "6                                             \n",
       "7   Pd de reconnection des electrodes d'ECoG  \n",
       "8                                             \n",
       "9                                             \n",
       "10                                            \n",
       "11                                            \n",
       "12                                            \n",
       "13                                            \n",
       "14                                            \n",
       "15                                            \n",
       "16                                            \n",
       "17                                            \n",
       "18                                            \n",
       "19                                            \n",
       "20                                            \n",
       "21                                            \n",
       "22                                            \n",
       "23                                            "
      ]
     },
     "execution_count": 6,
     "metadata": {},
     "output_type": "execute_result"
    }
   ],
   "source": [
    "pd.DataFrame(cns_reader.events)"
   ]
  },
  {
   "cell_type": "markdown",
   "id": "7bc272af-464e-4a1d-bae6-058d763abc9b",
   "metadata": {},
   "source": [
    "# PRECOMPUTE"
   ]
  },
  {
   "cell_type": "code",
   "execution_count": 24,
   "id": "5b2a09b3-509b-4eae-a434-e3601c21c9e6",
   "metadata": {
    "tags": []
   },
   "outputs": [
    {
     "data": {
      "text/plain": [
       "CnsReader: MF12\n",
       "17 streams : ['PLETH', 'SpO2', 'EEG_Impedance', 'ABP_Mean', 'Temp', 'ICP', 'CPP', 'ECG_II', 'ICP_Mean', 'EEG', 'EtCO2_Ext', 'CO2', 'ABP_Dias', 'ABP', 'EEG_NeonatalParams', 'HR', 'ABP_Syst']\n",
       "Events: 51"
      ]
     },
     "execution_count": 24,
     "metadata": {},
     "output_type": "execute_result"
    }
   ],
   "source": [
    "cns_reader"
   ]
  },
  {
   "cell_type": "code",
   "execution_count": 25,
   "id": "253a61e4-a95d-44d0-8578-d88eea6f5ab5",
   "metadata": {
    "tags": []
   },
   "outputs": [
    {
     "name": "stdout",
     "output_type": "stream",
     "text": [
      "(514427, 3)\n"
     ]
    }
   ],
   "source": [
    "force_compute = False\n",
    "ecg_stream = cns_reader.streams['ECG_II']\n",
    "if force_compute:\n",
    "    dates = ecg_stream.get_times()\n",
    "    ecg, r_peaks = detect_ecg_peak(ecg_stream)\n",
    "    r_peaks['peak_date'] = dates[r_peaks['peak_index']]\n",
    "else:\n",
    "    r_peaks = detect_ecg_job.get(patient_id).to_dataframe()\n",
    "print(r_peaks.shape)"
   ]
  },
  {
   "cell_type": "code",
   "execution_count": 26,
   "id": "bd81fa57-079f-409e-b1a1-a58817f3d758",
   "metadata": {
    "tags": []
   },
   "outputs": [
    {
     "name": "stdout",
     "output_type": "stream",
     "text": [
      "(119548, 13)\n"
     ]
    }
   ],
   "source": [
    "force_compute = False\n",
    "\n",
    "co2_stream = cns_reader.streams['CO2']\n",
    "if force_compute:\n",
    "    dates = co2_stream.get_times()\n",
    "    resp_cycles = detect_resp_cycles(co2_stream)\n",
    "    resp_cycles['inspi_date'] = dates[resp_cycles['inspi_index']]\n",
    "    resp_cycles['expi_date'] = dates[resp_cycles['expi_index']]\n",
    "else:\n",
    "    resp_cycles = detect_resp_job.get(patient_id).to_dataframe()\n",
    "print(resp_cycles.shape)"
   ]
  },
  {
   "cell_type": "code",
   "execution_count": 27,
   "id": "bfa48a2e-acc5-4fc9-b8a6-ddbd2e2c1130",
   "metadata": {
    "tags": []
   },
   "outputs": [
    {
     "name": "stdout",
     "output_type": "stream",
     "text": [
      "(119548, 13)\n"
     ]
    }
   ],
   "source": [
    "force_compute = False\n",
    "\n",
    "if force_compute:\n",
    "    rsa_cycles, cyclic_cardiac_rate = physio.compute_rsa(\n",
    "        resp_cycles,\n",
    "         r_peaks,\n",
    "         srate=10.,\n",
    "         two_segment=True,\n",
    "         points_per_cycle=50,\n",
    "    )\n",
    "    del cyclic_cardiac_rate\n",
    "    rsa_cycles['date'] = resp_cycles['inspi_date']\n",
    "else:\n",
    "    rsa_cycles = rsa_job.get(patient_id).to_dataframe()\n",
    "print(rsa_cycles.shape)"
   ]
  },
  {
   "cell_type": "code",
   "execution_count": 28,
   "id": "fcf9222d-b88e-4116-b2ae-4a10cf3eb570",
   "metadata": {
    "tags": []
   },
   "outputs": [
    {
     "name": "stdout",
     "output_type": "stream",
     "text": [
      "(534764, 16)\n"
     ]
    }
   ],
   "source": [
    "force_compute = False\n",
    "\n",
    "if force_compute:\n",
    "    abp_stream = cns_reader.streams['ABP']\n",
    "    srate_abp = abp_stream.sample_rate\n",
    "    raw_abp, dates = abp_stream.get_data(with_times=True, apply_gain=True)\n",
    "    abp_features = compute_abp(raw_abp, srate_abp, date_vector = dates)\n",
    "else:\n",
    "    abp_features = detect_abp_job.get(patient_id).to_dataframe()\n",
    "print(abp_features.shape)"
   ]
  },
  {
   "cell_type": "code",
   "execution_count": 29,
   "id": "ca7f2759-cfc8-4dfc-8b32-65af5f1cef5d",
   "metadata": {
    "tags": []
   },
   "outputs": [
    {
     "name": "stdout",
     "output_type": "stream",
     "text": [
      "(204523, 16)\n"
     ]
    }
   ],
   "source": [
    "force_compute = False\n",
    "\n",
    "if force_compute:\n",
    "    icp_stream = cns_reader.streams['ICP']\n",
    "    srate_icp = icp_stream.sample_rate\n",
    "    raw_icp, dates = icp_stream.get_data(with_times=True, apply_gain=True)\n",
    "    icp_features = compute_icp(raw_icp, srate_icp, date_vector = dates)\n",
    "else:\n",
    "    icp_features = detect_icp_job.get(patient_id).to_dataframe()\n",
    "print(icp_features.shape)"
   ]
  },
  {
   "cell_type": "code",
   "execution_count": 30,
   "id": "fb86d36a",
   "metadata": {},
   "outputs": [
    {
     "name": "stdout",
     "output_type": "stream",
     "text": [
      "(514427, 6)\n"
     ]
    }
   ],
   "source": [
    "force_compute = False\n",
    "\n",
    "if force_compute:\n",
    "    resp_cycles = detect_resp_job.get(patient_id).to_dataframe()\n",
    "    inspi_ratio = resp_cycles['cycle_ratio'].median()\n",
    "    cycle_times = resp_cycles[['inspi_time', 'expi_time', 'next_inspi_time']].values\n",
    "\n",
    "    ecg_peaks_resp = detect_ecg_job.get(patient_id).to_dataframe()\n",
    "\n",
    "    rpeak_phase_resp = physio.time_to_cycle(ecg_peaks_resp['peak_time'].values, cycle_times, segment_ratios=[inspi_ratio])\n",
    "    ecg_peaks_resp['rpeak_resp_phase'] = rpeak_phase_resp\n",
    "    ecg_peaks_resp['resp_phase'] = rpeak_phase_resp % 1\n",
    "    ecg_peaks_resp['resp_cycle'] = np.floor(rpeak_phase_resp)\n",
    "else:\n",
    "    ecg_peaks_resp = crps_job.get(patient_id).to_dataframe()\n",
    "print(ecg_peaks_resp.shape)"
   ]
  },
  {
   "cell_type": "code",
   "execution_count": 52,
   "id": "059cf290-e7e2-495b-a933-51a483affc0d",
   "metadata": {
    "tags": []
   },
   "outputs": [],
   "source": [
    "# stream_names = ['ABP','CO2']\n",
    "# srate_traube = 2\n",
    "# ds = cns_reader.export_to_xarray(stream_names, resample=True, sample_rate=srate_traube)"
   ]
  },
  {
   "cell_type": "markdown",
   "id": "af46b36c-db12-4156-ad37-a2d54f69c005",
   "metadata": {
    "tags": []
   },
   "source": [
    "# VIEWER RAW"
   ]
  },
  {
   "cell_type": "code",
   "execution_count": 10,
   "id": "12593d71",
   "metadata": {},
   "outputs": [
    {
     "data": {
      "text/plain": [
       "dict_keys(['ART_Dias', 'rSO2_Right', 'rSO2_Left', 'SpO2', 'ART', 'EEG_Impedance', 'ICP', 'CPP', 'ECG_II', 'ICP_Mean', 'ART_Mean', 'EtCO2', 'EEG', 'CO2', 'PbtO2', 'EEG_NeonatalParams', 'HR', 'ART_Syst'])"
      ]
     },
     "execution_count": 10,
     "metadata": {},
     "output_type": "execute_result"
    }
   ],
   "source": [
    "cns_reader.streams.keys()"
   ]
  },
  {
   "cell_type": "code",
   "execution_count": 14,
   "id": "a3098b87-54d1-4cd9-90df-831203a3c139",
   "metadata": {
    "tags": []
   },
   "outputs": [
    {
     "data": {
      "application/vnd.jupyter.widget-view+json": {
       "model_id": "51ba285b8158436896700142137b9a00",
       "version_major": 2,
       "version_minor": 0
      },
      "text/plain": [
       "Viewer(children=(VBox(children=(HBox(children=(Button(description='autoscale', icon='refresh', style=ButtonSty…"
      ]
     },
     "execution_count": 14,
     "metadata": {},
     "output_type": "execute_result"
    }
   ],
   "source": [
    "w = get_viewer(cns_reader, stream_names=['CO2'], with_events = False)\n",
    "w"
   ]
  },
  {
   "cell_type": "markdown",
   "id": "1d3a6de2-efa4-4ab1-841c-fda0042636ca",
   "metadata": {
    "tags": []
   },
   "source": [
    "# VIEWER PHYSIO"
   ]
  },
  {
   "cell_type": "code",
   "execution_count": 59,
   "id": "a9162382",
   "metadata": {},
   "outputs": [
    {
     "data": {
      "text/plain": [
       "'MF12'"
      ]
     },
     "execution_count": 59,
     "metadata": {},
     "output_type": "execute_result"
    }
   ],
   "source": [
    "patient_id"
   ]
  },
  {
   "cell_type": "code",
   "execution_count": 60,
   "id": "cdca3095-b1fc-45e1-afe4-5e05417c3ae7",
   "metadata": {
    "tags": []
   },
   "outputs": [
    {
     "data": {
      "application/vnd.jupyter.widget-view+json": {
       "model_id": "176c2359524a421584737d612908fe19",
       "version_major": 2,
       "version_minor": 0
      },
      "text/plain": [
       "Viewer(children=(VBox(children=(HBox(children=(Button(description='autoscale', icon='refresh', style=ButtonSty…"
      ]
     },
     "execution_count": 60,
     "metadata": {},
     "output_type": "execute_result"
    },
    {
     "name": "stderr",
     "output_type": "stream",
     "text": [
      "/crnldata/tiger/baptiste.balanca/Neuro_rea_monitorage/scripts_analyse_physio_neuro_rea/tools.py:18: RuntimeWarning: divide by zero encountered in log\n",
      "  return np.sum(np.where(a != 0, a * np.log(a / b), 0))\n",
      "/crnldata/tiger/baptiste.balanca/Neuro_rea_monitorage/scripts_analyse_physio_neuro_rea/tools.py:18: RuntimeWarning: invalid value encountered in multiply\n",
      "  return np.sum(np.where(a != 0, a * np.log(a / b), 0))\n",
      "/home/valentin.ghibaudo/.virtualenvs/py3.11_cluster/lib/python3.11/site-packages/numpy/core/fromnumeric.py:3464: RuntimeWarning: Mean of empty slice.\n",
      "  return _methods._mean(a, axis=axis, dtype=dtype,\n",
      "/home/valentin.ghibaudo/.virtualenvs/py3.11_cluster/lib/python3.11/site-packages/numpy/core/_methods.py:192: RuntimeWarning: invalid value encountered in scalar divide\n",
      "  ret = ret.dtype.type(ret / rcount)\n",
      "/crnldata/tiger/baptiste.balanca/Neuro_rea_monitorage/scripts_analyse_physio_neuro_rea/custom_view.py:605: RuntimeWarning: invalid value encountered in divide\n",
      "  count = count / np.sum(count)\n"
     ]
    }
   ],
   "source": [
    "%matplotlib widget\n",
    "\n",
    "rate_bins_resp = np.arange(5, 30, 0.5)\n",
    "step_bins_ecg = 1\n",
    "eeg_chan = 'F3'\n",
    "\n",
    "ext_plots = {\n",
    "            # ABP_Detections(cns_reader.streams['ABP'], abp_features),\n",
    "            # ICP_Detections(cns_reader.streams['ICP'], icp_features),\n",
    "            \n",
    "            # Wavelet_Power(cns_reader.streams['EEG'], eeg_chan, f_start = 4, f_stop = 8, n_steps = 30, n_cycles = 15, scaling = None),\n",
    "            # Bipolar(eeg_stream, 'ECoGA4', 'ECoGA3', lowcut = 0.0008, highcut = 0.5, down_sampling_factor = 100),\n",
    "            # AC_Envelope(eeg_stream, eeg_chan, highcut_amp=0.01),\n",
    "            # Spreading_depol_bipol(cns_reader.streams['EEG'], down_sampling_factor = 10),\n",
    "            # Depol(eeg_stream, eeg_chan, min_amp_mv = 15, max_amp_mv = None, min_duration_sec = 60, reverse_sig = False),\n",
    "            # Spectrogram_bio(co2_stream, wsize = 300, lf = 0.1, hf = 0.4, overlap_prct = 0.75),\n",
    "            # Spectrogram_eeg(cns_reader.streams['EEG'], eeg_chan, wsize = 10, lf = 1, hf = 20),\n",
    "            'resp':Respi_Rate(resp_cycles, resp_wsize_in_mins = 3, ratio_sat = 4, rate_bins_resp=rate_bins_resp),\n",
    "            'heart':Heart_Rate(r_peaks, step_bins_ecg = step_bins_ecg, hrv_wsize_in_mins = 3, ratio_sat = 3, plot_type = '2d'),\n",
    "            'RSA':RSA(rsa_cycles, win_cycles_smooth = 10, n_mads_cleaning = 5), \n",
    "            # Pulse_Pressure(abp_features, n_mads_cleaning = 2),\n",
    "            # Traube_Herring(ds['ABP'].values, ds['CO2'].values, srate_traube, ds['times'].values, wsize = 60), \n",
    "            'CRPS_2d':CRPS(ecg_peaks_resp, plot_type = '2d'),\n",
    "            'CRPS_1d':CRPS(ecg_peaks_resp, plot_type = '1d', step_secs_1d=60),\n",
    "            'HR_Ratio':HeartResp_FreqRatio(ecg_peaks_resp, resp_cycles, step_secs=60),\n",
    "}\n",
    "\n",
    "# w = get_viewer(cns_reader, stream_names=['ECG_II','CO2'], ext_plots=ext_plots)\n",
    "w = get_viewer(cns_reader, stream_names=['CO2'], ext_plots=ext_plots)\n",
    "w\n"
   ]
  },
  {
   "cell_type": "markdown",
   "id": "ccb684b6",
   "metadata": {},
   "source": [
    "# VIEWER MORLET NEURO"
   ]
  },
  {
   "cell_type": "code",
   "execution_count": 9,
   "id": "e194c274-9506-407a-b2ae-b48b9230a234",
   "metadata": {
    "tags": []
   },
   "outputs": [
    {
     "data": {
      "application/vnd.jupyter.widget-view+json": {
       "model_id": "07b9076e6c7a4a369f714edbed40fc2d",
       "version_major": 2,
       "version_minor": 0
      },
      "text/plain": [
       "Viewer(children=(VBox(children=(HBox(children=(Button(description='autoscale', icon='refresh', style=ButtonSty…"
      ]
     },
     "execution_count": 9,
     "metadata": {},
     "output_type": "execute_result"
    }
   ],
   "source": [
    "%matplotlib widget\n",
    "\n",
    "scalp_chan = 'F3'\n",
    "ecog_chan = 'ECoGA3'\n",
    "\n",
    "ext_plots = {\n",
    "            'morlet':Wavelet_Power(cns_reader.streams['EEG'], ecog_chan,  f_start = 4, f_stop = 20, n_steps = 40, n_cycles = 5, amplitude_exponent=1, scaling = None),\n",
    "}\n",
    "\n",
    "w = get_viewer(cns_reader, stream_names=['ICP','ABP','EEG'], ext_plots=ext_plots)\n",
    "w\n"
   ]
  },
  {
   "cell_type": "markdown",
   "id": "484ab764-e3b2-4e82-b765-1cfa1ae78180",
   "metadata": {},
   "source": [
    "# VIEWER EEG ARTIFACT"
   ]
  },
  {
   "cell_type": "code",
   "execution_count": null,
   "id": "9dc84fad-1f70-4836-9f3c-8b0a5f3399cb",
   "metadata": {
    "tags": []
   },
   "outputs": [],
   "source": [
    "precomputed_muscle_artifacts = local_muscle_artifacts_job.get(patient_id)['local_muscle_artifacts']\n",
    "# artifacts_vector = precomputed_muscle_artifacts.loc['Scalp',:].values\n",
    "artifacts_vector = precomputed_muscle_artifacts.loc['ECoG',:].values"
   ]
  },
  {
   "cell_type": "code",
   "execution_count": null,
   "id": "76c1a1f0-5a3d-4021-b2af-b47a018bec01",
   "metadata": {
    "tags": []
   },
   "outputs": [],
   "source": [
    "ylim = (-1, 10)\n",
    "threshold = 5"
   ]
  },
  {
   "cell_type": "code",
   "execution_count": null,
   "id": "15b904df-12bf-4209-85c7-30e5a891b700",
   "metadata": {
    "tags": []
   },
   "outputs": [],
   "source": [
    "dates_artifacts = precomputed_muscle_artifacts['date'].values"
   ]
  },
  {
   "cell_type": "code",
   "execution_count": null,
   "id": "e4bfabec-8c6e-46dd-9ee8-0622d6f2b830",
   "metadata": {
    "tags": []
   },
   "outputs": [],
   "source": [
    "eeg_chans = [chan for chan in cns_reader.streams['EEG'].channel_names if not 'ECoG' in chan]\n",
    "ecog_chans = [chan for chan in cns_reader.streams['EEG'].channel_names if 'ECoG' in chan]"
   ]
  },
  {
   "cell_type": "code",
   "execution_count": 14,
   "id": "dc2f2a1f-9b7a-4731-b341-3a02352bf940",
   "metadata": {
    "tags": []
   },
   "outputs": [
    {
     "data": {
      "application/vnd.jupyter.widget-view+json": {
       "model_id": "fe97d40bc8cb48879c88baeb9986b482",
       "version_major": 2,
       "version_minor": 0
      },
      "text/plain": [
       "Viewer(children=(VBox(children=(HBox(children=(Button(description='autoscale', icon='refresh', style=ButtonSty…"
      ]
     },
     "execution_count": 14,
     "metadata": {},
     "output_type": "execute_result"
    }
   ],
   "source": [
    "%matplotlib widget\n",
    "\n",
    "scalp_chan = 'F3'\n",
    "ecog_chan = 'ECoGA5'\n",
    "\n",
    "ext_plots = [\n",
    "            # Spectrogram_eeg(cns_reader.streams['EEG'], scalp_chan, wsize = 30, lf = 2, hf = 12, scaling = None, saturation_quantile = 0.02, cmap = 'viridis'),\n",
    "            # Monopolar(cns_reader.streams['EEG'], scalp_chan, down_sampling_factor = 2, lowcut = 0.01, highcut = 50),\n",
    "            # Monopolar(cns_reader.streams['EEG'], scalp_chan, down_sampling_factor = 2),\n",
    "            # Bipolar(cns_reader.streams['EEG'], 'Fz', 'Cz', down_sampling_factor = 2, lowcut = 0.01, highcut = 50),\n",
    "            # Bipolar(cns_reader.streams['EEG'], 'Cz', 'Pz', down_sampling_factor = 2, lowcut = 0.1, highcut = 30),\n",
    "            # Bipolar(cns_reader.streams['EEG'], 'ECoG4', 'ECoG3', down_sampling_factor = 2, lowcut = 0.01, highcut = 50),\n",
    "            Wavelet_Power(cns_reader.streams['EEG'], ecog_chan,  f_start = 2, f_stop = 12, n_steps = 40, n_cycles = 5, amplitude_exponent=1, scaling = None),\n",
    "            # Total_power(cns_reader.streams['EEG'], ecog_chan,  wsize = 30),\n",
    "            # Spectrum_Slope(cns_reader.streams['EEG'], ecog_chan,  wsize = 30),\n",
    "            # Total_power(cns_reader.streams['EEG'], ecog_chan,  wsize = 5),\n",
    "            # Spectrum_Slope(cns_reader.streams['EEG'], ecog_chan,  wsize = 5),\n",
    "            # AC_Envelope(cns_reader.streams['EEG'], scalp_chan, lowcut_ac = 30, highcut_ac = 127, highcut_amp = 1, down_sampling_factor = 2),\n",
    "            # Muscle_artifacts(cns_reader.streams['EEG'], used_chans = eeg_chans,  lowcut = 30, highcut_zscore = 1),\n",
    "            # Muscle_artifacts_precompute(artifacts_vector, dates_artifacts, threshold, ylim, mode = 'bool'),\n",
    "            # Artifact_6Hz(cns_reader.streams['EEG'], scalp_chan ),\n",
    "            ]\n",
    "\n",
    "w = get_viewer(cns_reader, stream_names=['ABP','ICP','CO2','EEG'], ext_plots=ext_plots)\n",
    "w\n"
   ]
  },
  {
   "cell_type": "code",
   "execution_count": null,
   "id": "6a636a65-0244-4620-b620-b88ebb57e723",
   "metadata": {
    "tags": []
   },
   "outputs": [],
   "source": [
    "ev_ind = 31\n",
    "\n",
    "win_jitter = np.timedelta64(10, 'm')\n",
    "time_ev = np.datetime64(evs.loc[ev_ind,'StartTimeGMT'])\n",
    "new_time = time_ev - win_jitter\n",
    "\n",
    "print(evs.loc[ev_ind,'Name'])\n",
    "print(time_ev)\n",
    "print(evs.loc[ev_ind,'Duration'])\n",
    "\n",
    "w.time_slider.update_time(new_time=new_time)\n"
   ]
  },
  {
   "cell_type": "code",
   "execution_count": null,
   "id": "d5d68b0a-b06a-480b-be74-4ae8cf777b54",
   "metadata": {
    "tags": []
   },
   "outputs": [],
   "source": [
    "evs"
   ]
  },
  {
   "cell_type": "code",
   "execution_count": null,
   "id": "6aacb780-fee3-4c4c-80c8-b570d2b3e3f4",
   "metadata": {
    "tags": []
   },
   "outputs": [],
   "source": [
    "# MF12 T7 le 2022-09-13T07:54:08.815104, signal OK\n",
    "# MF12 T7 le 2022-09-13T08:10:08.815104, signal artefacté car artefact à 08h07 et 53 secs"
   ]
  },
  {
   "cell_type": "markdown",
   "id": "962034aa-7393-47f9-b2b5-ec27f5d81009",
   "metadata": {},
   "source": [
    "# VIEWER CSD"
   ]
  },
  {
   "cell_type": "code",
   "execution_count": 19,
   "id": "27a9ce99-fdae-4755-b51d-578cafc27a59",
   "metadata": {
    "tags": []
   },
   "outputs": [
    {
     "data": {
      "application/vnd.jupyter.widget-view+json": {
       "model_id": "6bbba5162d924b04a1b7d8e99d275b51",
       "version_major": 2,
       "version_minor": 0
      },
      "text/plain": [
       "Viewer(children=(VBox(children=(HBox(children=(Button(description='autoscale', icon='refresh', style=ButtonSty…"
      ]
     },
     "execution_count": 19,
     "metadata": {},
     "output_type": "execute_result"
    }
   ],
   "source": [
    "%matplotlib widget\n",
    "\n",
    "bipol_ecog = 'ECoGA3-ECoGA2'\n",
    "mono_ecog = 'ECoGA3'\n",
    "\n",
    "# bipol_ecog = 'ECoG3-ECoG2'\n",
    "# mono_ecog = 'ECoG3'\n",
    "\n",
    "ext_plots = {\n",
    "            'CSDs_mono':Spreading_depol_mono(cns_reader.streams['EEG'], detections = pd.DataFrame(cns_reader.events), lowcut_dc = 0.002, highcut_dc = 0.1, global_gain = 0.05),\n",
    "            # 'CSDs_dipol':Spreading_depol_bipol(cns_reader.streams['EEG'], detections = pd.DataFrame(cns_reader.events), lowcut_dc = 0.002, highcut_dc = 0.1),\n",
    "            # 'CSDs_mono':Spreading_depol_mono(cns_reader.streams['EEG'], detections = depol_detections, lowcut_dc = 0.002, highcut_dc = 0.1),\n",
    "            # 'Morlet':Wavelet_Power(stream=cns_reader.streams['EEG'], chan='ECoGA3',  f_start = 1, f_stop=100, n_steps=50, n_cycles=20),\n",
    "            # 'CSDs_bipol':Spreading_depol_bipol2(cns_reader.streams['EEG'], detections = pd.DataFrame(cns_reader.events), down_sampling_factor = 10, lowcut_dc = 0.005),\n",
    "            # 'Spectro':Spectrogram_eeg(stream = cns_reader.streams['EEG'], chan_name='ECoG4', wsize=20, lf=2, hf=100, scaling = 'log', saturation_quantile = 0.01),\n",
    "            # Spreading_depol_scalp(cns_reader.streams['EEG'], down_sampling_factor = 10),\n",
    "            # 'AC_amp1':Amplitude_Envelope(cns_reader.streams['EEG'], 'ECoGA3' ,lowcut = 0.5, highcut = 40, highcut_amp = 0.01),\n",
    "            # 'AC_amp2':Amplitude_Envelope(cns_reader.streams['EEG'], 'ECoGA4' ,lowcut = 0.5, highcut = 40, highcut_amp = 0.5),\n",
    "            # 'AC_amp2':Amplitude_Envelope(cns_reader.streams['EEG'], 'ECoGA4' ,lowcut = 25, highcut = 80, highcut_amp = 0.02),\n",
    "            # 'AC_amp_bipol':Amplitude_Envelope(cns_reader.streams['EEG'], 'ECoGA3-ECoGA2' ,lowcut = 0.5, highcut = 40, highcut_amp = 0.02),\n",
    "            # SD_Detection(cns_reader.streams['EEG'], mono_ecog, down_sampling_factor = 100, lowcut = 0.001, highcut = 0.005, threshold_dc = 10, threshold_ac = 0.3)\n",
    "            # Respi_Rate(resp_cycles, resp_wsize_in_mins = 3, ratio_sat = 4, rate_bins_resp=np.arange(5, 30, 0.5)),\n",
    "            # Heart_Rate(r_peaks, step_bins_ecg = 1, hrv_wsize_in_mins = 3, ratio_sat = 3, plot_type = '2d'),\n",
    "            # RSA(rsa_cycles, win_cycles_smooth = 10, n_mads_cleaning = 5),\n",
    "            # 'total_power':Total_power(cns_reader.streams['EEG'], 'ECoGA3',  wsize = 30),\n",
    "            # 'Slope':Spectrum_Slope(cns_reader.streams['EEG'], 'ECoGA4',  wsize = 5),\n",
    "            'Envelope_2D_SD':Amplitude_Envelope_MultiChan(cns_reader.streams['EEG'], chan_type = 'ECoG' , lowcut =  0.001, highcut = 0.01, quantile_saturation = 0.01, exclude_chans = None),\n",
    "            'Envelope_1D_SD':Amplitude_Envelope_MultiChan(cns_reader.streams['EEG'], chan_type = 'ECoG' , lowcut =  0.001, highcut = 0.01, quantile_saturation = 0.01, plot_mode = '1D', exclude_chans = None),\n",
    "            # 'DC_detection3':Amplitude_Envelope_Show_Automated_Detection(cns_reader.streams['EEG'], 'ECoGA3', depolarization_detection_job.get(patient_id, 'ECoGA3').to_dataframe()),\n",
    "            # 'DC_detection4':Amplitude_Envelope_Show_Automated_Detection(cns_reader.streams['EEG'], 'ECoGA4', depolarization_detection_job.get(patient_id, 'ECoGA4').to_dataframe()),\n",
    "}\n",
    "\n",
    "w = get_viewer(cns_reader, stream_names=['ECG_II'], ext_plots=ext_plots, with_events=True)\n",
    "w"
   ]
  },
  {
   "cell_type": "markdown",
   "id": "e03d0b11",
   "metadata": {},
   "source": [
    "# VIEWER PRX"
   ]
  },
  {
   "cell_type": "code",
   "execution_count": null,
   "id": "11054f50-220a-4f15-86f1-33e2e1fb9a43",
   "metadata": {
    "tags": []
   },
   "outputs": [],
   "source": [
    "prx_processed_streams = CnsReader(data_path / patient_id / 'Processed')"
   ]
  },
  {
   "cell_type": "code",
   "execution_count": null,
   "id": "87fb7c59-cc96-4008-ab68-78dfbccf7bce",
   "metadata": {
    "tags": []
   },
   "outputs": [],
   "source": [
    "stream_list = list(prx_processed_streams.streams.keys())"
   ]
  },
  {
   "cell_type": "code",
   "execution_count": null,
   "id": "47321515",
   "metadata": {},
   "outputs": [],
   "source": [
    "prx_homemade = compute_homemade_prx(cns_reader, win_size_rolling_mins=1)"
   ]
  },
  {
   "cell_type": "code",
   "execution_count": null,
   "id": "98eacad7-1a97-418d-a492-e03ba7e9af59",
   "metadata": {
    "tags": []
   },
   "outputs": [],
   "source": [
    "print(stream_list)\n",
    "print(len(stream_list))"
   ]
  },
  {
   "cell_type": "code",
   "execution_count": 39,
   "id": "148e031e-c34d-4ae4-8b16-3c392236283c",
   "metadata": {
    "tags": []
   },
   "outputs": [
    {
     "data": {
      "application/vnd.jupyter.widget-view+json": {
       "model_id": "ee11bcb215ea4741a445a801f791cf86",
       "version_major": 2,
       "version_minor": 0
      },
      "text/plain": [
       "Viewer(children=(VBox(children=(HBox(children=(Button(description='autoscale', icon='refresh', style=ButtonSty…"
      ]
     },
     "execution_count": 39,
     "metadata": {},
     "output_type": "execute_result"
    },
    {
     "name": "stderr",
     "output_type": "stream",
     "text": [
      "/crnldata/tiger/baptiste.balanca/Neuro_rea_monitorage/scripts_analyse_physio_neuro_rea/custom_view.py:1235: RuntimeWarning: invalid value encountered in divide\n",
      "  ax2.plot(dates_spectrum, max_amplitudes[1] / max_amplitudes[0], color = 'k')\n",
      "/crnldata/tiger/baptiste.balanca/Neuro_rea_monitorage/scripts_analyse_physio_neuro_rea/custom_view.py:1223: UserWarning: nperseg = 3748 is greater than input length  = 0, using nperseg = 0\n",
      "  freqs, times_spectrum_s, Sxx_abp = scipy.signal.spectrogram(raw_abp, fs = srate, nperseg =  int(self.wsize_secs * srate), scaling = 'spectrum')\n"
     ]
    }
   ],
   "source": [
    "%matplotlib widget\n",
    "\n",
    "\n",
    "ext_plots = {\n",
    "            'ppc':Cereral_Perfusion_Pressure(cns_reader.streams['ICP_Mean'],cns_reader.streams['ABP_Mean']),\n",
    "            'heart_resp_icp':Heart_Resp_in_ICP(cns_reader.streams['ICP'], wsize_secs=30, resp_band = (0.1, 0.5), heart_band = (0.8, 2.5)),\n",
    "            'heart_resp_abp':Heart_Resp_in_ABP(cns_reader.streams['ABP'], wsize_secs=30, resp_band = (0.1, 0.5), heart_band = (0.8, 2.5)),\n",
    "            # 'heart_resp_freq':Heart_Resp_freq_from_ICP(cns_reader.streams['ICP'], wsize_secs=30, resp_band = (0.1, 0.5), heart_band = (0.8, 2.5)),\n",
    "            # 'prx1':PRx(prx_r, dates_prx),\n",
    "            # 'prx2':PRx(prx_r_nans, dates_prx_nans),\n",
    "            # 'prx_processed':PRX_Processed(prx_processed_streams.streams[stream_list[4]]),\n",
    "            # 'prx_homemade':PRx_homemade(prx_df=prx_homemade),\n",
    "            # 'spectro_icp':Spectrogram_bio(cns_reader.streams['ICP'], wsize = 30, lf = 0.1, hf = 3, power_or_amplitude = 'amplitude', saturation_quantile = 0.01, log_transfo = True),\n",
    "            # 'spectro_abp':Spectrogram_bio(cns_reader.streams['ABP'], wsize = 30, lf = 0.1, hf = 3, power_or_amplitude = 'amplitude', saturation_quantile = 0.01, log_transfo = True),\n",
    "            # 'wavelet_icp':Wavelet_Power_bio(cns_reader.streams['ABP'], f_start=0.15, f_stop=2, n_steps=50, n_cycles=10, amplitude_exponent=1, quantile_saturation = 0.01, scaling = None, compute_margin_secs = 30, down_samp_plot = 3),\n",
    "}\n",
    "\n",
    "w = get_viewer(cns_reader, stream_names=['ICP','ABP','ICP_Mean','ABP_Mean'], ext_plots=ext_plots)\n",
    "w"
   ]
  },
  {
   "cell_type": "markdown",
   "id": "c56cef6d",
   "metadata": {},
   "source": [
    "# VIEWER COMPLIANCE"
   ]
  },
  {
   "cell_type": "code",
   "execution_count": 41,
   "id": "21128001",
   "metadata": {},
   "outputs": [
    {
     "data": {
      "application/vnd.jupyter.widget-view+json": {
       "model_id": "f7d30a14c46c4714bed2955bf86e90c1",
       "version_major": 2,
       "version_minor": 0
      },
      "text/plain": [
       "Viewer(children=(VBox(children=(HBox(children=(Button(description='autoscale', icon='refresh', style=ButtonSty…"
      ]
     },
     "execution_count": 41,
     "metadata": {},
     "output_type": "execute_result"
    }
   ],
   "source": [
    "%matplotlib widget\n",
    "\n",
    "\n",
    "ext_plots = {\n",
    "            'psi':PSI(psi_da=psi_job.get(patient_id)['psi']),\n",
    "}\n",
    "\n",
    "w = get_viewer(cns_reader, stream_names=['ICP','ICP_Mean'], ext_plots=ext_plots)\n",
    "w"
   ]
  },
  {
   "cell_type": "code",
   "execution_count": null,
   "id": "7570a67c",
   "metadata": {},
   "outputs": [],
   "source": []
  }
 ],
 "metadata": {
  "kernelspec": {
   "display_name": "Python 3 (ipykernel)",
   "language": "python",
   "name": "python3"
  },
  "language_info": {
   "codemirror_mode": {
    "name": "ipython",
    "version": 3
   },
   "file_extension": ".py",
   "mimetype": "text/x-python",
   "name": "python",
   "nbconvert_exporter": "python",
   "pygments_lexer": "ipython3",
   "version": "3.11.2"
  }
 },
 "nbformat": 4,
 "nbformat_minor": 5
}
