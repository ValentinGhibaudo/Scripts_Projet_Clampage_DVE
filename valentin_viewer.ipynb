{
 "cells": [
  {
   "cell_type": "code",
   "execution_count": 1,
   "id": "7f4f9cbd-2fec-42c8-aca3-08d44210cabd",
   "metadata": {
    "tags": []
   },
   "outputs": [],
   "source": [
    "# %matplotlib inline\n",
    "%matplotlib widget"
   ]
  },
  {
   "cell_type": "code",
   "execution_count": 2,
   "id": "474775d9-a37f-4dc2-8dcd-770d158841b4",
   "metadata": {
    "tags": []
   },
   "outputs": [],
   "source": [
    "%load_ext autoreload\n",
    "%autoreload 2"
   ]
  },
  {
   "cell_type": "markdown",
   "id": "a3404cd7-4944-4f96-b6f6-45a358f99941",
   "metadata": {},
   "source": [
    "# IMPORT"
   ]
  },
  {
   "cell_type": "code",
   "execution_count": 3,
   "id": "193fa455-c7d7-4697-8644-4cb020c2ebee",
   "metadata": {
    "tags": []
   },
   "outputs": [],
   "source": [
    "from pathlib import Path\n",
    "\n",
    "import matplotlib.pyplot as plt\n",
    "import matplotlib.dates as mdates\n",
    "import numpy as np\n",
    "import xarray as xr\n",
    "\n",
    "\n",
    "from pycns import CnsStream, CnsReader, get_viewer\n",
    "import physio\n",
    "\n",
    "from physio_rea_analyse import *\n",
    "from custom_view import *\n",
    "\n",
    "from configuration import *\n",
    "from tools import *\n",
    "from params import *\n",
    "\n",
    "from icp_jobs import *"
   ]
  },
  {
   "cell_type": "markdown",
   "id": "df170855-9c07-480a-ac54-50cdecab5277",
   "metadata": {},
   "source": [
    "# READER"
   ]
  },
  {
   "cell_type": "code",
   "execution_count": 4,
   "id": "1e071afa",
   "metadata": {},
   "outputs": [
    {
     "data": {
      "text/plain": [
       "['Patient_2024_May_16__9_33_08_427295',\n",
       " 'Patient_2024_May_13__9_36_06_745131',\n",
       " 'Patient_2024_May_8__9_51_19_328502',\n",
       " 'Patient_2024_May_25__16_09_03_881877',\n",
       " 'Patient_2024_Sep_10__11_32_35_613533',\n",
       " 'Patient_2024_May_25__16_48_44_716049',\n",
       " 'Patient_2024_Jun_24__12_33_38_160174',\n",
       " 'PatientData_1723890119868125']"
      ]
     },
     "execution_count": 4,
     "metadata": {},
     "output_type": "execute_result"
    }
   ],
   "source": [
    "subs"
   ]
  },
  {
   "cell_type": "code",
   "execution_count": 5,
   "id": "e82b9377-baf0-4b84-8cd8-717cf1901845",
   "metadata": {
    "tags": []
   },
   "outputs": [],
   "source": [
    "# patient_id = 'Patient_2024_May_16__9_33_08_427295'\n",
    "# patient_id = 'Patient_2024_May_25__16_48_44_716049'\n",
    "# patient_id = 'Patient_2024_May_25__16_09_03_881877'\n",
    "# patient_id = 'Patient_2024_Jun_24__12_33_38_160174'\n",
    "# patient_id = 'Patient_2024_Jun_24__12_33_38_160174'\n",
    "patient_id = 'Patient_2024_May_8__9_51_19_328502'\n",
    "\n",
    "raw_folder = data_path / patient_id\n",
    "cns_reader = CnsReader(raw_folder, with_events=True, event_time_zone='Europe/Paris')"
   ]
  },
  {
   "cell_type": "code",
   "execution_count": 6,
   "id": "05a6d4df-097d-4c4f-a8ac-04797e68de9f",
   "metadata": {
    "tags": []
   },
   "outputs": [
    {
     "data": {
      "text/plain": [
       "Unnamed: 0                        NaN\n",
       "folder                     projet_DVE\n",
       "Unnamed: 3                        NaN\n",
       "debut             2024-05-08 10:00:00\n",
       "fin               2024-05-08 17:35:00\n",
       "PIC                               ICP\n",
       "PIV                                P1\n",
       "Numero                              3\n",
       "Sexe                                H\n",
       "Age                              57.0\n",
       "Date_admission    2024-04-25 00:00:00\n",
       "Date_sortie       2024-06-03 00:00:00\n",
       "Duree_sejour                     39.0\n",
       "Indication                        1.0\n",
       "Date_pose         2024-04-26 00:00:00\n",
       "Date_ablation     2024-05-14 00:00:00\n",
       "Duree_DVE                        18.0\n",
       "Kakarla                           1.0\n",
       "EIDVE                             0.0\n",
       "DVI                               1.0\n",
       "Date_DVI          2024-05-24 00:00:00\n",
       "Delais_DVI                       10.0\n",
       "VVTDM0                            NaN\n",
       "VVTDM1                            NaN\n",
       "VVTDM2                            NaN\n",
       "VVTDM3                            NaN\n",
       "VSTDM1                            NaN\n",
       "VSTDM2                            NaN\n",
       "VVECHO1                           NaN\n",
       "VVECHO2                           NaN\n",
       "VSECHO1                           NaN\n",
       "VSECHO2                           NaN\n",
       "PICPO                             NaN\n",
       "PICPA                             NaN\n",
       "MOYPIC                            NaN\n",
       "PICPB                             NaN\n",
       "PICPC                             NaN\n",
       "PICPD                             NaN\n",
       "PICPR                             NaN\n",
       "Name: Patient_2024_May_8__9_51_19_328502, dtype: object"
      ]
     },
     "execution_count": 6,
     "metadata": {},
     "output_type": "execute_result"
    }
   ],
   "source": [
    "meta = get_metadata(patient_id)\n",
    "meta"
   ]
  },
  {
   "cell_type": "code",
   "execution_count": 7,
   "id": "272ee771-2039-4f4a-b477-97d5656b0af8",
   "metadata": {
    "tags": []
   },
   "outputs": [
    {
     "data": {
      "text/html": [
       "<div>\n",
       "<style scoped>\n",
       "    .dataframe tbody tr th:only-of-type {\n",
       "        vertical-align: middle;\n",
       "    }\n",
       "\n",
       "    .dataframe tbody tr th {\n",
       "        vertical-align: top;\n",
       "    }\n",
       "\n",
       "    .dataframe thead th {\n",
       "        text-align: right;\n",
       "    }\n",
       "</style>\n",
       "<table border=\"1\" class=\"dataframe\">\n",
       "  <thead>\n",
       "    <tr style=\"text-align: right;\">\n",
       "      <th></th>\n",
       "      <th>name</th>\n",
       "      <th>start_time</th>\n",
       "      <th>duration</th>\n",
       "      <th>description</th>\n",
       "    </tr>\n",
       "  </thead>\n",
       "  <tbody>\n",
       "    <tr>\n",
       "      <th>0</th>\n",
       "      <td>1:declampage</td>\n",
       "      <td>2024-05-08 15:37:37.230</td>\n",
       "      <td>0.0</td>\n",
       "      <td></td>\n",
       "    </tr>\n",
       "  </tbody>\n",
       "</table>\n",
       "</div>"
      ],
      "text/plain": [
       "           name              start_time  duration description\n",
       "0  1:declampage 2024-05-08 15:37:37.230       0.0            "
      ]
     },
     "execution_count": 7,
     "metadata": {},
     "output_type": "execute_result"
    }
   ],
   "source": [
    "pd.DataFrame(cns_reader.events)"
   ]
  },
  {
   "cell_type": "markdown",
   "id": "7bc272af-464e-4a1d-bae6-058d763abc9b",
   "metadata": {},
   "source": [
    "# PRECOMPUTE"
   ]
  },
  {
   "cell_type": "code",
   "execution_count": 8,
   "id": "ca7f2759-cfc8-4dfc-8b32-65af5f1cef5d",
   "metadata": {
    "tags": []
   },
   "outputs": [],
   "source": [
    "# force_compute = False\n",
    "\n",
    "# if force_compute:\n",
    "#     icp_stream = cns_reader.streams['ICP']\n",
    "#     srate_icp = icp_stream.sample_rate\n",
    "#     raw_icp, dates = icp_stream.get_data(with_times=True, apply_gain=True)\n",
    "#     icp_features = compute_icp(raw_icp, srate_icp, date_vector = dates)\n",
    "# else:\n",
    "#     icp_features = detect_icp_job.get(patient_id).to_dataframe()\n",
    "# print(icp_features.shape)"
   ]
  },
  {
   "cell_type": "markdown",
   "id": "af46b36c-db12-4156-ad37-a2d54f69c005",
   "metadata": {
    "tags": []
   },
   "source": [
    "# VIEWER RAW"
   ]
  },
  {
   "cell_type": "code",
   "execution_count": 9,
   "id": "12593d71",
   "metadata": {},
   "outputs": [
    {
     "data": {
      "text/plain": [
       "dict_keys(['SpO2', 'RR', 'ICP', 'ABP_Syst', 'HR', 'ECG_II', 'P1_Dias', 'ABP', 'P1_Mean', 'ABP_Mean', 'P1', 'P1_Syst', 'ABP_Dias', 'PLETH', 'ICP_Mean', 'RESP'])"
      ]
     },
     "execution_count": 9,
     "metadata": {},
     "output_type": "execute_result"
    }
   ],
   "source": [
    "cns_reader.streams.keys()"
   ]
  },
  {
   "cell_type": "code",
   "execution_count": 10,
   "id": "7538665c",
   "metadata": {},
   "outputs": [
    {
     "data": {
      "text/plain": [
       "['ICP', 'P1', 'ICP_Mean', 'P1_Mean']"
      ]
     },
     "execution_count": 10,
     "metadata": {},
     "output_type": "execute_result"
    }
   ],
   "source": [
    "stream_names = list(cns_reader.streams.keys())\n",
    "stream_with_P = [name for name in stream_names if 'P' in name and len(name) < 4]\n",
    "stream_with_P = [name for name in stream_with_P if not name in ['CPP','ABP']]\n",
    "stream_with_P = stream_with_P + [f'{name}_Mean' for name in stream_with_P]\n",
    "stream_with_P"
   ]
  },
  {
   "cell_type": "code",
   "execution_count": 47,
   "id": "228f9935",
   "metadata": {},
   "outputs": [
    {
     "data": {
      "text/plain": [
       "{'debut': numpy.datetime64('2024-06-24T18:00:00.000000000'),\n",
       " 'fin': numpy.datetime64('2024-06-25T06:43:00.000000000')}"
      ]
     },
     "execution_count": 47,
     "metadata": {},
     "output_type": "execute_result"
    }
   ],
   "source": [
    "get_date_windows_gmt(patient_id)"
   ]
  },
  {
   "cell_type": "code",
   "execution_count": 11,
   "id": "09310b24",
   "metadata": {},
   "outputs": [
    {
     "data": {
      "text/plain": [
       "'Patient_2024_May_8__9_51_19_328502'"
      ]
     },
     "execution_count": 11,
     "metadata": {},
     "output_type": "execute_result"
    }
   ],
   "source": [
    "patient_id"
   ]
  },
  {
   "cell_type": "code",
   "execution_count": 12,
   "id": "a3098b87-54d1-4cd9-90df-831203a3c139",
   "metadata": {
    "tags": []
   },
   "outputs": [
    {
     "data": {
      "application/vnd.jupyter.widget-view+json": {
       "model_id": "b78e0b67c3eb4caa982e3f18a3eb0695",
       "version_major": 2,
       "version_minor": 0
      },
      "text/plain": [
       "Viewer(children=(VBox(children=(HBox(children=(Button(description='autoscale', icon='refresh', style=ButtonSty…"
      ]
     },
     "execution_count": 12,
     "metadata": {},
     "output_type": "execute_result"
    }
   ],
   "source": [
    "w = get_viewer(cns_reader, stream_names=stream_with_P, with_events = False)\n",
    "w"
   ]
  },
  {
   "cell_type": "markdown",
   "id": "6f36d031",
   "metadata": {},
   "source": [
    "# VIEWER EXTERNALS"
   ]
  },
  {
   "cell_type": "code",
   "execution_count": 25,
   "id": "42b539b8",
   "metadata": {},
   "outputs": [
    {
     "data": {
      "text/plain": [
       "'ICP'"
      ]
     },
     "execution_count": 25,
     "metadata": {},
     "output_type": "execute_result"
    }
   ],
   "source": [
    "icp_chan_name[patient_id]"
   ]
  },
  {
   "cell_type": "code",
   "execution_count": 26,
   "id": "e2172024",
   "metadata": {},
   "outputs": [
    {
     "data": {
      "application/vnd.jupyter.widget-view+json": {
       "model_id": "929045819265400887b330c075e43fa2",
       "version_major": 2,
       "version_minor": 0
      },
      "text/plain": [
       "Viewer(children=(VBox(children=(HBox(children=(Button(description='autoscale', icon='refresh', style=ButtonSty…"
      ]
     },
     "execution_count": 26,
     "metadata": {},
     "output_type": "execute_result"
    }
   ],
   "source": [
    "icp_features = detect_icp_job.get(patient_id).to_dataframe()\n",
    "stream_name = icp_chan_name[patient_id]\n",
    "psi_da = psi_job.get(patient_id)['psi']\n",
    "\n",
    "ext_plots = {\n",
    "            'detections':ICP_Detections(cns_reader.streams[stream_name], icp_features),\n",
    "            'psi':PSI(psi_da)\n",
    "}\n",
    "\n",
    "w = get_viewer(cns_reader, stream_names=[stream_name], ext_plots=ext_plots)\n",
    "w"
   ]
  },
  {
   "cell_type": "code",
   "execution_count": null,
   "id": "0cfc4498",
   "metadata": {},
   "outputs": [],
   "source": []
  }
 ],
 "metadata": {
  "kernelspec": {
   "display_name": "py3.11_cluster",
   "language": "python",
   "name": "python3"
  },
  "language_info": {
   "codemirror_mode": {
    "name": "ipython",
    "version": 3
   },
   "file_extension": ".py",
   "mimetype": "text/x-python",
   "name": "python",
   "nbconvert_exporter": "python",
   "pygments_lexer": "ipython3",
   "version": "3.11.2"
  }
 },
 "nbformat": 4,
 "nbformat_minor": 5
}
