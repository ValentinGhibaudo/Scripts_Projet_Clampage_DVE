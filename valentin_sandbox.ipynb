{
 "cells": [
  {
   "cell_type": "code",
   "execution_count": 3,
   "metadata": {},
   "outputs": [],
   "source": [
    "import pycns\n",
    "import numpy as np\n",
    "import pandas as pd\n",
    "from params import *\n",
    "from configuration import *"
   ]
  },
  {
   "cell_type": "markdown",
   "metadata": {},
   "source": [
    "# ICP CHAN NAMES"
   ]
  },
  {
   "cell_type": "code",
   "execution_count": 5,
   "metadata": {},
   "outputs": [
    {
     "name": "stdout",
     "output_type": "stream",
     "text": [
      "Patient_2024_May_16__9_33_08_427295 ['ABP', 'P1', 'P2']\n",
      "Patient_2024_May_25__16_48_44_716049 ['P1', 'P']\n",
      "Patient_2024_May_25__16_09_03_881877 ['ICP', 'P1']\n",
      "Patient_2024_Jun_24__12_33_38_160174 ['CPP', 'ICP', 'P1', 'P']\n",
      "PatientData_1723890119868125 ['CPP', 'ICP', 'ABP', 'P1', 'P']\n"
     ]
    }
   ],
   "source": [
    "for sub in subs:\n",
    "    cns_reader = pycns.CnsReader(data_path / sub)\n",
    "    stream_names = list(cns_reader.streams.keys())\n",
    "    stream_with_P = [name for name in stream_names if 'P' in name and len(name) < 4]\n",
    "    print(sub, stream_with_P)"
   ]
  },
  {
   "cell_type": "markdown",
   "metadata": {},
   "source": []
  }
 ],
 "metadata": {
  "kernelspec": {
   "display_name": "py3.11_cluster",
   "language": "python",
   "name": "python3"
  },
  "language_info": {
   "codemirror_mode": {
    "name": "ipython",
    "version": 3
   },
   "file_extension": ".py",
   "mimetype": "text/x-python",
   "name": "python",
   "nbconvert_exporter": "python",
   "pygments_lexer": "ipython3",
   "version": "3.11.2"
  }
 },
 "nbformat": 4,
 "nbformat_minor": 2
}
